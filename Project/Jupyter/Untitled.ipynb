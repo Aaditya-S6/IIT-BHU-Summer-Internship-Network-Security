{
 "cells": [
  {
   "cell_type": "code",
   "execution_count": 4,
   "id": "8da734f2",
   "metadata": {},
   "outputs": [],
   "source": [
    "import os\n",
    "import pandas as pd\n",
    "import warnings\n",
    "warnings.filterwarnings('ignore')"
   ]
  },
  {
   "cell_type": "code",
   "execution_count": 2,
   "id": "9d91aa5e",
   "metadata": {},
   "outputs": [],
   "source": [
    "\n",
    "     "
   ]
  },
  {
   "cell_type": "code",
   "execution_count": 5,
   "id": "8de4f393",
   "metadata": {},
   "outputs": [],
   "source": [
    "root_path = \"D:\\IIT BHU Intership\\Dataset\\Mobile_Applications_Traffic (1)\\Mobile_Applications_Traffic\\DataSet All Apps\""
   ]
  },
  {
   "cell_type": "code",
   "execution_count": 12,
   "id": "7a6304f3",
   "metadata": {},
   "outputs": [],
   "source": [
    "'''\n",
    "Define set of hyper-parameters\n",
    "List of tuples (duration, overlap)\n",
    "'''\n",
    "params = [(5, 3), (4, 2), (3, 1), (2, 0), (1, 0)]"
   ]
  },
  {
   "cell_type": "code",
   "execution_count": 9,
   "id": "4f9b2408",
   "metadata": {},
   "outputs": [],
   "source": [
    "\n",
    "# folder that contains source data\n",
    "sources_folder = root_path"
   ]
  },
  {
   "cell_type": "code",
   "execution_count": 13,
   "id": "f9ecac8b",
   "metadata": {},
   "outputs": [
    {
     "ename": "NameError",
     "evalue": "name 'imgur' is not defined",
     "output_type": "error",
     "traceback": [
      "\u001b[1;31m---------------------------------------------------------------------------\u001b[0m",
      "\u001b[1;31mNameError\u001b[0m                                 Traceback (most recent call last)",
      "Cell \u001b[1;32mIn[13], line 3\u001b[0m\n\u001b[0;32m      1\u001b[0m \u001b[38;5;28;01mfor\u001b[39;00m duration, overlap \u001b[38;5;129;01min\u001b[39;00m params:\n\u001b[0;32m      2\u001b[0m   \u001b[38;5;66;03m# folder that contain samples of one set of parameters\u001b[39;00m\n\u001b[1;32m----> 3\u001b[0m   param_folder \u001b[38;5;241m=\u001b[39m os\u001b[38;5;241m.\u001b[39mpath\u001b[38;5;241m.\u001b[39mjoin(root_path,\u001b[43mimgur\u001b[49m)\n\u001b[0;32m      5\u001b[0m   \u001b[38;5;66;03m# check whether the data is already generated or not\u001b[39;00m\n\u001b[0;32m      6\u001b[0m   \u001b[38;5;28;01mif\u001b[39;00m \u001b[38;5;129;01mnot\u001b[39;00m os\u001b[38;5;241m.\u001b[39mpath\u001b[38;5;241m.\u001b[39mexists(param_folder):\n",
      "\u001b[1;31mNameError\u001b[0m: name 'imgur' is not defined"
     ]
    }
   ],
   "source": [
    "for duration, overlap in params:\n",
    "  # folder that contain samples of one set of parameters\n",
    "  param_folder = os.path.join(root_path,\"imgur\")\n",
    "  \n",
    "  # check whether the data is already generated or not\n",
    "  if not os.path.exists(param_folder):\n",
    "    os.mkdir(param_folder)\n",
    "\n",
    "    # create folder to contain samples\n",
    "    samples_folder = param_folder\n",
    "    os.mkdir(samples_folder)\n",
    "\n",
    "    # loop over each app to generate samples\n",
    "    for app in os.listdir(sources_folder):\n",
    "      print('App: ', app)\n",
    "      app_sources_folder = os.path.join(sources_folder, app)\n",
    "\n",
    "      # create folder contain samples for each app\n",
    "      app_samples_folder = os.path.join(samples_folder, app)\n",
    "      if not os.path.exists(app_samples_folder):\n",
    "        os.mkdir(app_samples_folder)\n",
    "\n",
    "      for filename in os.listdir(app_sources_folder):\n",
    "        print('Processing %s ...' % filename)\n",
    "        index = 1\n",
    "\n",
    "        file_path = os.path.join(app_sources_folder, filename)\n",
    "        df = pd.read_csv(file_path, index_col=0)\n",
    "        base = df['time'].iloc[0]\n",
    "        end = df['time'].iloc[-1]\n",
    "      \n",
    "        while ((index - 1)*(duration - overlap) + duration)*60 + base < end:\n",
    "          start_time = base + (index-1)*(duration - overlap)*60\n",
    "          end_time = start_time + duration*60\n",
    "          df_ = df[(df['time'] >= start_time) & (df['time'] <= end_time)].reset_index(drop=True)\n",
    "\n",
    "          # save a sample as csv file\n",
    "          sample_filename = \"_\".join(filename.split('_')[:-2]) + '_' + filename.split('_')[-2] + '_' + str(index) + '.csv'\n",
    "          sample_path = os.path.join(app_samples_folder, sample_filename)\n",
    "          df_.to_csv(sample_path, index=True)\n",
    "\n",
    "          index += 1\n",
    "    \n",
    "      print('...................................................')\n",
    "     "
   ]
  },
  {
   "cell_type": "code",
   "execution_count": null,
   "id": "4a3fc7c2",
   "metadata": {},
   "outputs": [],
   "source": []
  }
 ],
 "metadata": {
  "kernelspec": {
   "display_name": "Python 3 (ipykernel)",
   "language": "python",
   "name": "python3"
  },
  "language_info": {
   "codemirror_mode": {
    "name": "ipython",
    "version": 3
   },
   "file_extension": ".py",
   "mimetype": "text/x-python",
   "name": "python",
   "nbconvert_exporter": "python",
   "pygments_lexer": "ipython3",
   "version": "3.10.9"
  }
 },
 "nbformat": 4,
 "nbformat_minor": 5
}
