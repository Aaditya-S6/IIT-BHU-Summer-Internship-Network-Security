{
 "cells": [
  {
   "cell_type": "code",
   "execution_count": 32,
   "id": "ae6c09bd",
   "metadata": {},
   "outputs": [
    {
     "name": "stdout",
     "output_type": "stream",
     "text": [
      "Enter the payload ratio: 5\n",
      "Enter the label: 1\n"
     ]
    },
    {
     "data": {
      "image/png": "[encoded data removed]",
      "text/plain": [
       "<Figure size 1000x600 with 1 Axes>"
      ]
     },
     "metadata": {},
     "output_type": "display_data"
    },
    {
     "name": "stdout",
     "output_type": "stream",
     "text": [
      "Graph saved successfully.\n"
     ]
    }
   ],
   "source": [
    "import pandas as pd\n",
    "import numpy as np\n",
    "import networkx as nx\n",
    "import matplotlib.pyplot as plt\n",
    "import pickle\n",
    "from stellargraph import StellarGraph\n",
    "\n",
    "# Read the CSV file\n",
    "df = pd.read_csv(r\"C:\\Github repo\\IIT-BHU-Summer-Internship-Network-Security\\Flow As Graph\\Dataset\\mini_multi_dataset\\nodes.csv\")\n",
    "\n",
    "# Get the payload ratio and label from the user\n",
    "payload_ratio = float(input(\"Enter the payload ratio: \"))\n",
    "label = input(\"Enter the label: \")\n",
    "\n",
    "# Create an empty graph\n",
    "G = nx.Graph()\n",
    "\n",
    "# Add nodes to the graph\n",
    "for _, row in df.iterrows():\n",
    "    node_id = row['nodeid']\n",
    "    node_feature = row['node_feature']\n",
    "    G.add_node(node_id, feature=node_feature)\n",
    "\n",
    "# Add edges to the graph\n",
    "# for _, row in df.iterrows():\n",
    "#     source_node = row['source_node_id']\n",
    "#     destination_nodes = row['destination_node_id']\n",
    "    \n",
    "#     for dest_node in destination_nodes:\n",
    "#         G.add_edge(source_node, dest_node)\n",
    "\n",
    "# Set the label for the graph\n",
    "G.graph['label'] = label\n",
    "# Display the graph\n",
    "pos = nx.spring_layout(G)  # Define the layout of the nodes\n",
    "plt.figure(figsize=(10, 6))  # Set the size of the figure\n",
    "nx.draw_networkx(G, pos=pos, with_labels=True)  # Draw the graph\n",
    "plt.title(label)  # Set the title of the graph\n",
    "plt.show()\n",
    "file_path = r\"D:\\IIT BHU Intership\\graph\\test\\graph.pkl\"\n",
    "\n",
    "# Save the graph using pickle\n",
    "with open(file_path, \"wb\") as file:\n",
    "    pickle.dump(graph, file)\n",
    "\n",
    "print(\"Graph saved successfully.\")\n"
   ]
  },
  {
   "cell_type": "markdown",
   "id": "b6ba7153",
   "metadata": {},
   "source": [
    "## "
   ]
  },
  {
   "cell_type": "code",
   "execution_count": 38,
   "id": "0d012e72",
   "metadata": {},
   "outputs": [
    {
     "ename": "AttributeError",
     "evalue": "'str' object has no attribute 'x'",
     "output_type": "error",
     "traceback": [
      "\u001b[1;31m---------------------------------------------------------------------------\u001b[0m",
      "\u001b[1;31mAttributeError\u001b[0m                            Traceback (most recent call last)",
      "Cell \u001b[1;32mIn[38], line 73\u001b[0m\n\u001b[0;32m     71\u001b[0m optimizer\u001b[38;5;241m.\u001b[39mzero_grad()\n\u001b[0;32m     72\u001b[0m data \u001b[38;5;241m=\u001b[39m train_dataset  \u001b[38;5;66;03m# Move data to GPU if available\u001b[39;00m\n\u001b[1;32m---> 73\u001b[0m outputs \u001b[38;5;241m=\u001b[39m \u001b[43mmodel\u001b[49m\u001b[43m(\u001b[49m\u001b[43mdata\u001b[49m\u001b[43m)\u001b[49m\n\u001b[0;32m     74\u001b[0m labels \u001b[38;5;241m=\u001b[39m data\u001b[38;5;241m.\u001b[39my\n\u001b[0;32m     75\u001b[0m loss \u001b[38;5;241m=\u001b[39m criterion(outputs, labels)\n",
      "File \u001b[1;32m~\\AppData\\Roaming\\Python\\Python310\\site-packages\\torch\\nn\\modules\\module.py:1501\u001b[0m, in \u001b[0;36mModule._call_impl\u001b[1;34m(self, *args, **kwargs)\u001b[0m\n\u001b[0;32m   1496\u001b[0m \u001b[38;5;66;03m# If we don't have any hooks, we want to skip the rest of the logic in\u001b[39;00m\n\u001b[0;32m   1497\u001b[0m \u001b[38;5;66;03m# this function, and just call forward.\u001b[39;00m\n\u001b[0;32m   1498\u001b[0m \u001b[38;5;28;01mif\u001b[39;00m \u001b[38;5;129;01mnot\u001b[39;00m (\u001b[38;5;28mself\u001b[39m\u001b[38;5;241m.\u001b[39m_backward_hooks \u001b[38;5;129;01mor\u001b[39;00m \u001b[38;5;28mself\u001b[39m\u001b[38;5;241m.\u001b[39m_backward_pre_hooks \u001b[38;5;129;01mor\u001b[39;00m \u001b[38;5;28mself\u001b[39m\u001b[38;5;241m.\u001b[39m_forward_hooks \u001b[38;5;129;01mor\u001b[39;00m \u001b[38;5;28mself\u001b[39m\u001b[38;5;241m.\u001b[39m_forward_pre_hooks\n\u001b[0;32m   1499\u001b[0m         \u001b[38;5;129;01mor\u001b[39;00m _global_backward_pre_hooks \u001b[38;5;129;01mor\u001b[39;00m _global_backward_hooks\n\u001b[0;32m   1500\u001b[0m         \u001b[38;5;129;01mor\u001b[39;00m _global_forward_hooks \u001b[38;5;129;01mor\u001b[39;00m _global_forward_pre_hooks):\n\u001b[1;32m-> 1501\u001b[0m     \u001b[38;5;28;01mreturn\u001b[39;00m forward_call(\u001b[38;5;241m*\u001b[39margs, \u001b[38;5;241m*\u001b[39m\u001b[38;5;241m*\u001b[39mkwargs)\n\u001b[0;32m   1502\u001b[0m \u001b[38;5;66;03m# Do not call functions when jit is used\u001b[39;00m\n\u001b[0;32m   1503\u001b[0m full_backward_hooks, non_full_backward_hooks \u001b[38;5;241m=\u001b[39m [], []\n",
      "Cell \u001b[1;32mIn[38], line 22\u001b[0m, in \u001b[0;36mGCN.forward\u001b[1;34m(self, data)\u001b[0m\n\u001b[0;32m     20\u001b[0m \u001b[38;5;28;01mdef\u001b[39;00m \u001b[38;5;21mforward\u001b[39m(\u001b[38;5;28mself\u001b[39m, data):\n\u001b[0;32m     21\u001b[0m     \u001b[38;5;66;03m# Your forward pass code\u001b[39;00m\n\u001b[1;32m---> 22\u001b[0m     x, edge_index \u001b[38;5;241m=\u001b[39m \u001b[43mdata\u001b[49m\u001b[38;5;241;43m.\u001b[39;49m\u001b[43mx\u001b[49m, data\u001b[38;5;241m.\u001b[39medge_index\n\u001b[0;32m     24\u001b[0m     x \u001b[38;5;241m=\u001b[39m \u001b[38;5;28mself\u001b[39m\u001b[38;5;241m.\u001b[39mconv1(x, edge_index)\n\u001b[0;32m     25\u001b[0m     x \u001b[38;5;241m=\u001b[39m F\u001b[38;5;241m.\u001b[39mrelu(x)\n",
      "\u001b[1;31mAttributeError\u001b[0m: 'str' object has no attribute 'x'"
     ]
    }
   ],
   "source": [
    "import torch\n",
    "import torch.nn as nn\n",
    "import torch.optim as optim\n",
    "from torch_geometric.nn import GraphConv  # Import GraphConv\n",
    "import torch.nn.functional as F\n",
    "from torch_geometric.data import DataLoader\n",
    "from sklearn.metrics import accuracy_score\n",
    "\n",
    "\n",
    "# Define your GCN model\n",
    "class GCN(nn.Module):\n",
    "    def __init__(self):\n",
    "        super(GCN, self).__init__()\n",
    "        self.conv1 = GraphConv(121, 128)\n",
    "        self.conv2 = GraphConv(128, 128)\n",
    "        self.conv3 = GraphConv(128, 128)\n",
    "        self.dropout = nn.Dropout(0.5)\n",
    "        self.lin = nn.Linear(128, 9)\n",
    "\n",
    "    def forward(self, data):\n",
    "        # Your forward pass code\n",
    "        x, edge_index = data.x, data.edge_index\n",
    "\n",
    "        x = self.conv1(x, edge_index)\n",
    "        x = F.relu(x)\n",
    "\n",
    "        x = self.conv2(x, edge_index)\n",
    "        x = F.relu(x)\n",
    "\n",
    "        x = self.conv3(x, edge_index)\n",
    "        x = F.relu(x)\n",
    "\n",
    "        x = global_mean_pool(x, data.batch)\n",
    "\n",
    "        x = self.dropout(x)\n",
    "        x = self.lin(x)\n",
    "        x = F.log_softmax(x, dim=1)\n",
    "\n",
    "        return x\n",
    "\n",
    "# Rest of your code...\n",
    "\n",
    "\n",
    "# Initialize the model\n",
    "model = GCN()\n",
    "\n",
    "# Define your training parameters\n",
    "batch_size = 1\n",
    "learning_rate = 0.01\n",
    "num_epochs = 10\n",
    "\n",
    "# Define your training dataset and dataloader\n",
    "train_dataset = r\"D:\\IIT BHU Intership\\graph\\train\"\n",
    "train_loader = DataLoader(train_dataset, batch_size=batch_size, shuffle=True)\n",
    "\n",
    "# Define your testing dataset and dataloader\n",
    "test_dataset = \"D:\\IIT BHU Intership\\graph\\test\"\n",
    "test_loader = DataLoader(test_dataset, batch_size=batch_size, shuffle=False)\n",
    "\n",
    "# Define the loss function and optimizer\n",
    "criterion = nn.CrossEntropyLoss()\n",
    "optimizer = optim.Adam(model.parameters(), lr=learning_rate)\n",
    "\n",
    "# Training loop\n",
    "for epoch in range(num_epochs):\n",
    "    model.train()\n",
    "    total_loss = 0\n",
    "    total_samples = 0\n",
    "\n",
    "    for batch in train_loader:\n",
    "        optimizer.zero_grad()\n",
    "        data = train_dataset  # Move data to GPU if available\n",
    "        outputs = model(data)\n",
    "        labels = data.y\n",
    "        loss = criterion(outputs, labels)\n",
    "        loss.backward()\n",
    "        optimizer.step()\n",
    "\n",
    "        total_loss += loss.item() * data.num_graphs\n",
    "        total_samples += data.num_graphs\n",
    "\n",
    "    # Calculate average training loss for the epoch\n",
    "    avg_loss = total_loss / total_samples\n",
    "\n",
    "    # Evaluation on the test set\n",
    "    model.eval()\n",
    "    y_true = []\n",
    "    y_pred = []\n",
    "\n",
    "    with torch.no_grad():\n",
    "        for batch in test_loader:\n",
    "            data = batch.to(torch.device('cuda'))  # Move data to GPU if available\n",
    "            outputs = model(data)\n",
    "            _, predicted = torch.max(outputs, 1)\n",
    "            y_true.extend(data.y.tolist())\n",
    "            y_pred.extend(predicted.tolist())\n",
    "\n",
    "    # Calculate accuracy on the test set\n",
    "    accuracy = accuracy_score(y_true, y_pred)\n",
    "\n",
    "    # Print training and testing metrics\n",
    "    print(f\"Epoch [{epoch+1}/{num_epochs}], Loss: {avg_loss:.4f}, Accuracy: {accuracy:.4f}\")\n"
   ]
  },
  {
   "cell_type": "code",
   "execution_count": null,
   "id": "803cea84",
   "metadata": {},
   "outputs": [],
   "source": []
  }
 ],
 "metadata": {
  "kernelspec": {
   "display_name": "Python 3 (ipykernel)",
   "language": "python",
   "name": "python3"
  },
  "language_info": {
   "codemirror_mode": {
    "name": "ipython",
    "version": 3
   },
   "file_extension": ".py",
   "mimetype": "text/x-python",
   "name": "python",
   "nbconvert_exporter": "python",
   "pygments_lexer": "ipython3",
   "version": "3.10.9"
  }
 },
 "nbformat": 4,
 "nbformat_minor": 5
}
