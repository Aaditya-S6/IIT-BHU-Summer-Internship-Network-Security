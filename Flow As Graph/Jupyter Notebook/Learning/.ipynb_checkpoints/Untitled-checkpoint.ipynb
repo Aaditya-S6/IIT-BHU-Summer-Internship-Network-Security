{
 "cells": [
  {
   "cell_type": "code",
   "execution_count": 16,
   "id": "ae6c09bd",
   "metadata": {},
   "outputs": [],
   "source": [
    "import pandas as pd\n",
    "\n",
    "graphs_df = pd.read_csv(r\"C:\\Github repo\\IIT-BHU-Summer-Internship-Network-Security\\Flow As Graph\\Dataset\\mini_multi_dataset\\graphs.csv\")\n",
    "edges_df = pd.read_csv(r\"C:\\Github repo\\IIT-BHU-Summer-Internship-Network-Security\\Flow As Graph\\Dataset\\mini_multi_dataset\\edges.csv\")\n",
    "nodes_df = pd.read_csv(r\"C:\\Github repo\\IIT-BHU-Summer-Internship-Network-Security\\Flow As Graph\\Dataset\\mini_multi_dataset\\nodes.csv\")\n"
   ]
  },
  {
   "cell_type": "code",
   "execution_count": 19,
   "id": "f85019c7",
   "metadata": {},
   "outputs": [],
   "source": [
    "merged_df = edges_df.merge(nodes_df, on=[\"graph_id\"]).merge(graphs_df, on=\"graph_id\")\n"
   ]
  },
  {
   "cell_type": "code",
   "execution_count": 20,
   "id": "aa74153c",
   "metadata": {},
   "outputs": [],
   "source": [
    "graph_features = merged_df[[\"graph_id\", \"feat\"]].drop_duplicates().values\n",
    "edge_index = merged_df[[\"src_id\", \"dst_id\"]].values\n",
    "edge_features = merged_df[\"feat\"].values\n",
    "node_features = merged_df[\"feat\"].values\n",
    "labels = merged_df[\"label\"].values\n"
   ]
  },
  {
   "cell_type": "code",
   "execution_count": 21,
   "id": "884c8725",
   "metadata": {},
   "outputs": [],
   "source": [
    "graph_features = graph_features[:, 1:].astype(float)\n",
    "edge_index = edge_index.transpose()\n",
    "node_features = node_features.astype(float)\n"
   ]
  },
  {
   "cell_type": "code",
   "execution_count": 22,
   "id": "b9c93e2b",
   "metadata": {},
   "outputs": [],
   "source": [
    "from torch_geometric.data import Data\n",
    "\n",
    "data = Data(x=node_features, edge_index=edge_index, edge_attr=edge_features, y=labels, graph_attr=graph_features)\n"
   ]
  },
  {
   "cell_type": "code",
   "execution_count": 28,
   "id": "211cc404",
   "metadata": {},
   "outputs": [
    {
     "ename": "TypeError",
     "evalue": "Can't instantiate abstract class MyDataset with abstract methods get, len",
     "output_type": "error",
     "traceback": [
      "\u001b[1;31m---------------------------------------------------------------------------\u001b[0m",
      "\u001b[1;31mTypeError\u001b[0m                                 Traceback (most recent call last)",
      "Cell \u001b[1;32mIn[28], line 14\u001b[0m\n\u001b[0;32m     11\u001b[0m     \u001b[38;5;28;01mdef\u001b[39;00m \u001b[38;5;21m__getitem__\u001b[39m(\u001b[38;5;28mself\u001b[39m, idx):\n\u001b[0;32m     12\u001b[0m         \u001b[38;5;28;01mreturn\u001b[39;00m \u001b[38;5;28mself\u001b[39m\u001b[38;5;241m.\u001b[39mdata_list[idx]\n\u001b[1;32m---> 14\u001b[0m dataset \u001b[38;5;241m=\u001b[39m \u001b[43mMyDataset\u001b[49m\u001b[43m(\u001b[49m\u001b[43mdata\u001b[49m\u001b[43m)\u001b[49m\n",
      "\u001b[1;31mTypeError\u001b[0m: Can't instantiate abstract class MyDataset with abstract methods get, len"
     ]
    }
   ],
   "source": [
    "from torch_geometric.data import Dataset\n",
    "\n",
    "class MyDataset(Dataset):\n",
    "    def __init__(self, data_list):\n",
    "        super(MyDataset, self).__init__()\n",
    "        self.data_list = data_list\n",
    "\n",
    "    def __len__(self):\n",
    "        return len(self.data_list)\n",
    "\n",
    "    def __getitem__(self, idx):\n",
    "        return self.data_list[idx]\n",
    "\n",
    "    def get(self, idx):\n",
    "        # Implement the logic to retrieve the specific item at index `idx`\n",
    "        # from your dataset and return it\n",
    "        pass\n",
    "\n",
    "dataset = MyDataset(data)\n"
   ]
  },
  {
   "cell_type": "code",
   "execution_count": null,
   "id": "38d78780",
   "metadata": {},
   "outputs": [],
   "source": []
  }
 ],
 "metadata": {
  "kernelspec": {
   "display_name": "Python 3 (ipykernel)",
   "language": "python",
   "name": "python3"
  },
  "language_info": {
   "codemirror_mode": {
    "name": "ipython",
    "version": 3
   },
   "file_extension": ".py",
   "mimetype": "text/x-python",
   "name": "python",
   "nbconvert_exporter": "python",
   "pygments_lexer": "ipython3",
   "version": "3.10.9"
  }
 },
 "nbformat": 4,
 "nbformat_minor": 5
}
