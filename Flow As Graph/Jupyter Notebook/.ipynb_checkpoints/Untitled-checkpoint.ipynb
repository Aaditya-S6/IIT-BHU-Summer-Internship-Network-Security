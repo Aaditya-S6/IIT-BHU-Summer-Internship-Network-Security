{
 "cells": [
  {
   "cell_type": "code",
   "execution_count": 1,
   "id": "4234adf1",
   "metadata": {},
   "outputs": [],
   "source": [
    "# Global features for graph 0.\n",
    "globals_0 = [1., 2., 3.]\n",
    "\n",
    "# Node features for graph 0.\n",
    "nodes_0 = [[10., 20., 30.],  # Node 0\n",
    "           [11., 21., 31.],  # Node 1\n",
    "           [12., 22., 32.],  # Node 2\n",
    "           [13., 23., 33.],  # Node 3\n",
    "           [14., 24., 34.]]  # Node 4\n",
    "\n",
    "# Edge features for graph 0.\n",
    "edges_0 = [[100., 200.],  # Edge 0\n",
    "           [101., 201.],  # Edge 1\n",
    "           [102., 202.],  # Edge 2\n",
    "           [103., 203.],  # Edge 3\n",
    "           [104., 204.],  # Edge 4\n",
    "           [105., 205.]]  # Edge 5\n",
    "\n",
    "# The sender and receiver nodes associated with each edge for graph 0.\n",
    "senders_0 = [0,  # Index of the sender node for edge 0\n",
    "             1,  # Index of the sender node for edge 1\n",
    "             1,  # Index of the sender node for edge 2\n",
    "             2,  # Index of the sender node for edge 3\n",
    "             2,  # Index of the sender node for edge 4\n",
    "             3]  # Index of the sender node for edge 5\n",
    "receivers_0 = [1,  # Index of the receiver node for edge 0\n",
    "               2,  # Index of the receiver node for edge 1\n",
    "               3,  # Index of the receiver node for edge 2\n",
    "               0,  # Index of the receiver node for edge 3\n",
    "               3,  # Index of the receiver node for edge 4\n",
    "               4]  # Index of the receiver node for edge 5\n",
    "\n",
    "# Global features for graph 1.\n",
    "globals_1 = [1001., 1002., 1003.]\n",
    "\n",
    "# Node features for graph 1.\n",
    "nodes_1 = [[1010., 1020., 1030.],  # Node 0\n",
    "           [1011., 1021., 1031.]]  # Node 1\n",
    "\n",
    "# Edge features for graph 1.\n",
    "edges_1 = [[1100., 1200.],  # Edge 0\n",
    "           [1101., 1201.],  # Edge 1\n",
    "           [1102., 1202.],  # Edge 2\n",
    "           [1103., 1203.]]  # Edge 3\n",
    "\n",
    "# The sender and receiver nodes associated with each edge for graph 1.\n",
    "senders_1 = [0,  # Index of the sender node for edge 0\n",
    "             0,  # Index of the sender node for edge 1\n",
    "             1,  # Index of the sender node for edge 2\n",
    "             1]  # Index of the sender node for edge 3\n",
    "receivers_1 = [0,  # Index of the receiver node for edge 0\n",
    "               1,  # Index of the receiver node for edge 1\n",
    "               0,  # Index of the receiver node for edge 2\n",
    "               0]  # Index of the receiver node for edge 3\n",
    "\n",
    "data_dict_0 = {\n",
    "    \"globals\": globals_0,\n",
    "    \"nodes\": nodes_0,\n",
    "    \"edges\": edges_0,\n",
    "    \"senders\": senders_0,\n",
    "    \"receivers\": receivers_0\n",
    "}\n",
    "\n",
    "data_dict_1 = {\n",
    "    \"globals\": globals_1,\n",
    "    \"nodes\": nodes_1,\n",
    "    \"edges\": edges_1,\n",
    "    \"senders\": senders_1,\n",
    "    \"receivers\": receivers_1\n",
    "}"
   ]
  },
  {
   "cell_type": "code",
   "execution_count": 12,
   "id": "8299d4ee",
   "metadata": {},
   "outputs": [
    {
     "ename": "ModuleNotFoundError",
     "evalue": "No module named 'graphs'",
     "output_type": "error",
     "traceback": [
      "\u001b[1;31m---------------------------------------------------------------------------\u001b[0m",
      "\u001b[1;31mModuleNotFoundError\u001b[0m                       Traceback (most recent call last)",
      "Cell \u001b[1;32mIn[12], line 5\u001b[0m\n\u001b[0;32m      2\u001b[0m \u001b[38;5;28;01mfrom\u001b[39;00m \u001b[38;5;21;01m__future__\u001b[39;00m \u001b[38;5;28;01mimport\u001b[39;00m division\n\u001b[0;32m      3\u001b[0m \u001b[38;5;28;01mfrom\u001b[39;00m \u001b[38;5;21;01m__future__\u001b[39;00m \u001b[38;5;28;01mimport\u001b[39;00m print_function\n\u001b[1;32m----> 5\u001b[0m \u001b[38;5;28;01mfrom\u001b[39;00m \u001b[38;5;21;01mgraph_nets\u001b[39;00m \u001b[38;5;28;01mimport\u001b[39;00m blocks\n\u001b[0;32m      7\u001b[0m \u001b[38;5;28;01mfrom\u001b[39;00m \u001b[38;5;21;01mgraph_nets\u001b[39;00m \u001b[38;5;28;01mimport\u001b[39;00m graphs\n\u001b[0;32m      8\u001b[0m \u001b[38;5;28;01mfrom\u001b[39;00m \u001b[38;5;21;01mgraph_nets\u001b[39;00m \u001b[38;5;28;01mimport\u001b[39;00m modules\n",
      "File \u001b[1;32m~\\AppData\\Roaming\\Python\\Python310\\site-packages\\graph_nets\\__init__.py:21\u001b[0m\n\u001b[0;32m     18\u001b[0m \u001b[38;5;28;01mfrom\u001b[39;00m \u001b[38;5;21;01m__future__\u001b[39;00m \u001b[38;5;28;01mimport\u001b[39;00m division\n\u001b[0;32m     19\u001b[0m \u001b[38;5;28;01mfrom\u001b[39;00m \u001b[38;5;21;01m__future__\u001b[39;00m \u001b[38;5;28;01mimport\u001b[39;00m print_function\n\u001b[1;32m---> 21\u001b[0m \u001b[38;5;28;01mfrom\u001b[39;00m \u001b[38;5;21;01mgraph_nets\u001b[39;00m \u001b[38;5;28;01mimport\u001b[39;00m blocks\n\u001b[0;32m     22\u001b[0m \u001b[38;5;28;01mfrom\u001b[39;00m \u001b[38;5;21;01mgraph_nets\u001b[39;00m \u001b[38;5;28;01mimport\u001b[39;00m graphs\n\u001b[0;32m     23\u001b[0m \u001b[38;5;28;01mfrom\u001b[39;00m \u001b[38;5;21;01mgraph_nets\u001b[39;00m \u001b[38;5;28;01mimport\u001b[39;00m modules\n",
      "File \u001b[1;32m~\\AppData\\Roaming\\Python\\Python310\\site-packages\\graph_nets\\blocks.py:35\u001b[0m\n\u001b[0;32m     32\u001b[0m \u001b[38;5;28;01mfrom\u001b[39;00m \u001b[38;5;21;01m__future__\u001b[39;00m \u001b[38;5;28;01mimport\u001b[39;00m division\n\u001b[0;32m     33\u001b[0m \u001b[38;5;28;01mfrom\u001b[39;00m \u001b[38;5;21;01m__future__\u001b[39;00m \u001b[38;5;28;01mimport\u001b[39;00m print_function\n\u001b[1;32m---> 35\u001b[0m \u001b[38;5;28;01mfrom\u001b[39;00m \u001b[38;5;21;01mgraph_nets\u001b[39;00m \u001b[38;5;28;01mimport\u001b[39;00m _base\n\u001b[0;32m     36\u001b[0m \u001b[38;5;28;01mfrom\u001b[39;00m \u001b[38;5;21;01mgraph_nets\u001b[39;00m \u001b[38;5;28;01mimport\u001b[39;00m graphs\n\u001b[0;32m     37\u001b[0m \u001b[38;5;28;01mfrom\u001b[39;00m \u001b[38;5;21;01mgraph_nets\u001b[39;00m \u001b[38;5;28;01mimport\u001b[39;00m utils_tf\n",
      "File \u001b[1;32m~\\AppData\\Roaming\\Python\\Python310\\site-packages\\graph_nets\\_base.py:53\u001b[0m\n\u001b[0;32m     50\u001b[0m \u001b[38;5;28;01mimport\u001b[39;00m \u001b[38;5;21;01mcontextlib\u001b[39;00m\n\u001b[0;32m     52\u001b[0m \u001b[38;5;28;01mimport\u001b[39;00m \u001b[38;5;21;01msix\u001b[39;00m\n\u001b[1;32m---> 53\u001b[0m \u001b[38;5;28;01mimport\u001b[39;00m \u001b[38;5;21;01msonnet\u001b[39;00m \u001b[38;5;28;01mas\u001b[39;00m \u001b[38;5;21;01msnt\u001b[39;00m\n\u001b[0;32m     55\u001b[0m _sonnet_version \u001b[38;5;241m=\u001b[39m snt\u001b[38;5;241m.\u001b[39m__version__\n\u001b[0;32m     56\u001b[0m _sonnet_major_version \u001b[38;5;241m=\u001b[39m \u001b[38;5;28mint\u001b[39m(_sonnet_version\u001b[38;5;241m.\u001b[39msplit(\u001b[38;5;124m\"\u001b[39m\u001b[38;5;124m.\u001b[39m\u001b[38;5;124m\"\u001b[39m)[\u001b[38;5;241m0\u001b[39m])\n",
      "File \u001b[1;32m~\\AppData\\Roaming\\Python\\Python310\\site-packages\\sonnet\\__init__.py:2\u001b[0m\n\u001b[0;32m      1\u001b[0m __version__ \u001b[38;5;241m=\u001b[39m \u001b[38;5;124m'\u001b[39m\u001b[38;5;124m0.1.6\u001b[39m\u001b[38;5;124m'\u001b[39m\n\u001b[1;32m----> 2\u001b[0m \u001b[38;5;28;01mfrom\u001b[39;00m \u001b[38;5;21;01mgraphs\u001b[39;00m \u001b[38;5;28;01mimport\u001b[39;00m Sonnet, D3Graph, MatplotGraph\n",
      "\u001b[1;31mModuleNotFoundError\u001b[0m: No module named 'graphs'"
     ]
    }
   ],
   "source": [
    "\n",
    "\n",
    "from __future__ import absolute_import\n",
    "from __future__ import division\n",
    "from __future__ import print_function\n",
    "\n",
    "from graph_nets import blocks\n",
    "\n",
    "from graph_nets import graphs\n",
    "from graph_nets import modules\n",
    "from graph_nets import utils_np\n",
    "from graph_nets import utils_tf\n",
    "\n",
    "import matplotlib.pyplot as plt\n",
    "import networkx as nx\n",
    "import numpy as np\n",
    "import sonnet as snt\n",
    "import tensorflow as tf\n",
    "utils.to_categorical\n",
    "data_dict_list = [data_dict_0, data_dict_1]\n",
    "graphs_tuple = utils_np.data_dicts_to_graphs_tuple(data_dict_list)"
   ]
  },
  {
   "cell_type": "code",
   "execution_count": 4,
   "id": "ea8c19aa",
   "metadata": {},
   "outputs": [
    {
     "ename": "KeyError",
     "evalue": "5",
     "output_type": "error",
     "traceback": [
      "\u001b[1;31m---------------------------------------------------------------------------\u001b[0m",
      "\u001b[1;31mKeyError\u001b[0m                                  Traceback (most recent call last)",
      "Cell \u001b[1;32mIn[4], line 2\u001b[0m\n\u001b[0;32m      1\u001b[0m \u001b[38;5;28;01mimport\u001b[39;00m \u001b[38;5;21;01mdgl\u001b[39;00m\n\u001b[1;32m----> 2\u001b[0m dataset \u001b[38;5;241m=\u001b[39m \u001b[43mdgl\u001b[49m\u001b[38;5;241;43m.\u001b[39;49m\u001b[43mdata\u001b[49m\u001b[38;5;241;43m.\u001b[39;49m\u001b[43mCSVDataset\u001b[49m\u001b[43m(\u001b[49m\u001b[38;5;124;43mr\u001b[39;49m\u001b[38;5;124;43m\"\u001b[39;49m\u001b[38;5;124;43mC:\u001b[39;49m\u001b[38;5;124;43m\\\u001b[39;49m\u001b[38;5;124;43mGithub repo\u001b[39;49m\u001b[38;5;124;43m\\\u001b[39;49m\u001b[38;5;124;43mIIT-BHU-Summer-Internship-Network-Security\u001b[39;49m\u001b[38;5;124;43m\\\u001b[39;49m\u001b[38;5;124;43mFlow As Graph\u001b[39;49m\u001b[38;5;124;43m\\\u001b[39;49m\u001b[38;5;124;43mDataset\u001b[39;49m\u001b[38;5;124;43m\\\u001b[39;49m\u001b[38;5;124;43mmini_multi_dataset\u001b[39;49m\u001b[38;5;124;43m\"\u001b[39;49m\u001b[43m)\u001b[49m\n\u001b[0;32m      3\u001b[0m \u001b[38;5;28mprint\u001b[39m(\u001b[38;5;28mlen\u001b[39m(dataset))\n\u001b[0;32m      4\u001b[0m graph0, data0 \u001b[38;5;241m=\u001b[39m dataset[\u001b[38;5;241m0\u001b[39m]\n",
      "File \u001b[1;32m~\\AppData\\Roaming\\Python\\Python310\\site-packages\\dgl\\data\\csv_dataset.py:103\u001b[0m, in \u001b[0;36mCSVDataset.__init__\u001b[1;34m(self, data_path, force_reload, verbose, ndata_parser, edata_parser, gdata_parser, transform)\u001b[0m\n\u001b[0;32m    101\u001b[0m \u001b[38;5;28mself\u001b[39m\u001b[38;5;241m.\u001b[39mmeta_yaml \u001b[38;5;241m=\u001b[39m load_yaml_with_sanity_check(meta_yaml_path)\n\u001b[0;32m    102\u001b[0m ds_name \u001b[38;5;241m=\u001b[39m \u001b[38;5;28mself\u001b[39m\u001b[38;5;241m.\u001b[39mmeta_yaml\u001b[38;5;241m.\u001b[39mdataset_name\n\u001b[1;32m--> 103\u001b[0m \u001b[38;5;28;43msuper\u001b[39;49m\u001b[43m(\u001b[49m\u001b[43m)\u001b[49m\u001b[38;5;241;43m.\u001b[39;49m\u001b[38;5;21;43m__init__\u001b[39;49m\u001b[43m(\u001b[49m\n\u001b[0;32m    104\u001b[0m \u001b[43m    \u001b[49m\u001b[43mds_name\u001b[49m\u001b[43m,\u001b[49m\n\u001b[0;32m    105\u001b[0m \u001b[43m    \u001b[49m\u001b[43mraw_dir\u001b[49m\u001b[38;5;241;43m=\u001b[39;49m\u001b[43mos\u001b[49m\u001b[38;5;241;43m.\u001b[39;49m\u001b[43mpath\u001b[49m\u001b[38;5;241;43m.\u001b[39;49m\u001b[43mdirname\u001b[49m\u001b[43m(\u001b[49m\u001b[43mmeta_yaml_path\u001b[49m\u001b[43m)\u001b[49m\u001b[43m,\u001b[49m\n\u001b[0;32m    106\u001b[0m \u001b[43m    \u001b[49m\u001b[43mforce_reload\u001b[49m\u001b[38;5;241;43m=\u001b[39;49m\u001b[43mforce_reload\u001b[49m\u001b[43m,\u001b[49m\n\u001b[0;32m    107\u001b[0m \u001b[43m    \u001b[49m\u001b[43mverbose\u001b[49m\u001b[38;5;241;43m=\u001b[39;49m\u001b[43mverbose\u001b[49m\u001b[43m,\u001b[49m\n\u001b[0;32m    108\u001b[0m \u001b[43m    \u001b[49m\u001b[43mtransform\u001b[49m\u001b[38;5;241;43m=\u001b[39;49m\u001b[43mtransform\u001b[49m\u001b[43m,\u001b[49m\n\u001b[0;32m    109\u001b[0m \u001b[43m\u001b[49m\u001b[43m)\u001b[49m\n",
      "File \u001b[1;32m~\\AppData\\Roaming\\Python\\Python310\\site-packages\\dgl\\data\\dgl_dataset.py:112\u001b[0m, in \u001b[0;36mDGLDataset.__init__\u001b[1;34m(self, name, url, raw_dir, save_dir, hash_key, force_reload, verbose, transform)\u001b[0m\n\u001b[0;32m    109\u001b[0m \u001b[38;5;28;01melse\u001b[39;00m:\n\u001b[0;32m    110\u001b[0m     \u001b[38;5;28mself\u001b[39m\u001b[38;5;241m.\u001b[39m_save_dir \u001b[38;5;241m=\u001b[39m save_dir\n\u001b[1;32m--> 112\u001b[0m \u001b[38;5;28;43mself\u001b[39;49m\u001b[38;5;241;43m.\u001b[39;49m\u001b[43m_load\u001b[49m\u001b[43m(\u001b[49m\u001b[43m)\u001b[49m\n",
      "File \u001b[1;32m~\\AppData\\Roaming\\Python\\Python310\\site-packages\\dgl\\data\\dgl_dataset.py:203\u001b[0m, in \u001b[0;36mDGLDataset._load\u001b[1;34m(self)\u001b[0m\n\u001b[0;32m    201\u001b[0m \u001b[38;5;28;01mif\u001b[39;00m \u001b[38;5;129;01mnot\u001b[39;00m load_flag:\n\u001b[0;32m    202\u001b[0m     \u001b[38;5;28mself\u001b[39m\u001b[38;5;241m.\u001b[39m_download()\n\u001b[1;32m--> 203\u001b[0m     \u001b[38;5;28;43mself\u001b[39;49m\u001b[38;5;241;43m.\u001b[39;49m\u001b[43mprocess\u001b[49m\u001b[43m(\u001b[49m\u001b[43m)\u001b[49m\n\u001b[0;32m    204\u001b[0m     \u001b[38;5;28mself\u001b[39m\u001b[38;5;241m.\u001b[39msave()\n\u001b[0;32m    205\u001b[0m     \u001b[38;5;28;01mif\u001b[39;00m \u001b[38;5;28mself\u001b[39m\u001b[38;5;241m.\u001b[39mverbose:\n",
      "File \u001b[1;32m~\\AppData\\Roaming\\Python\\Python310\\site-packages\\dgl\\data\\csv_dataset.py:171\u001b[0m, in \u001b[0;36mCSVDataset.process\u001b[1;34m(self)\u001b[0m\n\u001b[0;32m    164\u001b[0m     graph_data \u001b[38;5;241m=\u001b[39m GraphData\u001b[38;5;241m.\u001b[39mload_from_csv(\n\u001b[0;32m    165\u001b[0m         meta_graph,\n\u001b[0;32m    166\u001b[0m         base_dir\u001b[38;5;241m=\u001b[39mbase_dir,\n\u001b[0;32m    167\u001b[0m         separator\u001b[38;5;241m=\u001b[39mmeta_yaml\u001b[38;5;241m.\u001b[39mseparator,\n\u001b[0;32m    168\u001b[0m         data_parser\u001b[38;5;241m=\u001b[39mdata_parser,\n\u001b[0;32m    169\u001b[0m     )\n\u001b[0;32m    170\u001b[0m \u001b[38;5;66;03m# construct graphs\u001b[39;00m\n\u001b[1;32m--> 171\u001b[0m \u001b[38;5;28mself\u001b[39m\u001b[38;5;241m.\u001b[39mgraphs, \u001b[38;5;28mself\u001b[39m\u001b[38;5;241m.\u001b[39mdata \u001b[38;5;241m=\u001b[39m \u001b[43mDGLGraphConstructor\u001b[49m\u001b[38;5;241;43m.\u001b[39;49m\u001b[43mconstruct_graphs\u001b[49m\u001b[43m(\u001b[49m\n\u001b[0;32m    172\u001b[0m \u001b[43m    \u001b[49m\u001b[43mnode_data\u001b[49m\u001b[43m,\u001b[49m\u001b[43m \u001b[49m\u001b[43medge_data\u001b[49m\u001b[43m,\u001b[49m\u001b[43m \u001b[49m\u001b[43mgraph_data\u001b[49m\n\u001b[0;32m    173\u001b[0m \u001b[43m\u001b[49m\u001b[43m)\u001b[49m\n\u001b[0;32m    174\u001b[0m \u001b[38;5;28;01mif\u001b[39;00m \u001b[38;5;28mlen\u001b[39m(\u001b[38;5;28mself\u001b[39m\u001b[38;5;241m.\u001b[39mdata) \u001b[38;5;241m==\u001b[39m \u001b[38;5;241m1\u001b[39m:\n\u001b[0;32m    175\u001b[0m     \u001b[38;5;28mself\u001b[39m\u001b[38;5;241m.\u001b[39mlabels \u001b[38;5;241m=\u001b[39m \u001b[38;5;28mlist\u001b[39m(\u001b[38;5;28mself\u001b[39m\u001b[38;5;241m.\u001b[39mdata\u001b[38;5;241m.\u001b[39mvalues())[\u001b[38;5;241m0\u001b[39m]\n",
      "File \u001b[1;32m~\\AppData\\Roaming\\Python\\Python310\\site-packages\\dgl\\data\\csv_dataset_base.py:331\u001b[0m, in \u001b[0;36mDGLGraphConstructor.construct_graphs\u001b[1;34m(node_data, edge_data, graph_data)\u001b[0m\n\u001b[0;32m    329\u001b[0m     edge_data \u001b[38;5;241m=\u001b[39m [edge_data]\n\u001b[0;32m    330\u001b[0m node_dict \u001b[38;5;241m=\u001b[39m NodeData\u001b[38;5;241m.\u001b[39mto_dict(node_data)\n\u001b[1;32m--> 331\u001b[0m edge_dict \u001b[38;5;241m=\u001b[39m \u001b[43mEdgeData\u001b[49m\u001b[38;5;241;43m.\u001b[39;49m\u001b[43mto_dict\u001b[49m\u001b[43m(\u001b[49m\u001b[43medge_data\u001b[49m\u001b[43m,\u001b[49m\u001b[43m \u001b[49m\u001b[43mnode_dict\u001b[49m\u001b[43m)\u001b[49m\n\u001b[0;32m    332\u001b[0m graph_dict \u001b[38;5;241m=\u001b[39m DGLGraphConstructor\u001b[38;5;241m.\u001b[39m_construct_graphs(node_dict, edge_dict)\n\u001b[0;32m    333\u001b[0m \u001b[38;5;28;01mif\u001b[39;00m graph_data \u001b[38;5;129;01mis\u001b[39;00m \u001b[38;5;28;01mNone\u001b[39;00m:\n",
      "File \u001b[1;32m~\\AppData\\Roaming\\Python\\Python310\\site-packages\\dgl\\data\\csv_dataset_base.py:259\u001b[0m, in \u001b[0;36mEdgeData.to_dict\u001b[1;34m(edge_data, node_dict)\u001b[0m\n\u001b[0;32m    255\u001b[0m orig_dst_ids \u001b[38;5;241m=\u001b[39m e_data\u001b[38;5;241m.\u001b[39mdst[idx]\u001b[38;5;241m.\u001b[39mastype(\n\u001b[0;32m    256\u001b[0m     node_dict[graph_id][dst_type][\u001b[38;5;124m\"\u001b[39m\u001b[38;5;124mdtype\u001b[39m\u001b[38;5;124m\"\u001b[39m]\n\u001b[0;32m    257\u001b[0m )\n\u001b[0;32m    258\u001b[0m src_ids \u001b[38;5;241m=\u001b[39m [src_mapping[index] \u001b[38;5;28;01mfor\u001b[39;00m index \u001b[38;5;129;01min\u001b[39;00m orig_src_ids]\n\u001b[1;32m--> 259\u001b[0m dst_ids \u001b[38;5;241m=\u001b[39m [dst_mapping[index] \u001b[38;5;28;01mfor\u001b[39;00m index \u001b[38;5;129;01min\u001b[39;00m orig_dst_ids]\n\u001b[0;32m    260\u001b[0m \u001b[38;5;28;01mif\u001b[39;00m graph_id \u001b[38;5;129;01mnot\u001b[39;00m \u001b[38;5;129;01min\u001b[39;00m edge_dict:\n\u001b[0;32m    261\u001b[0m     edge_dict[graph_id] \u001b[38;5;241m=\u001b[39m {}\n",
      "File \u001b[1;32m~\\AppData\\Roaming\\Python\\Python310\\site-packages\\dgl\\data\\csv_dataset_base.py:259\u001b[0m, in \u001b[0;36m<listcomp>\u001b[1;34m(.0)\u001b[0m\n\u001b[0;32m    255\u001b[0m orig_dst_ids \u001b[38;5;241m=\u001b[39m e_data\u001b[38;5;241m.\u001b[39mdst[idx]\u001b[38;5;241m.\u001b[39mastype(\n\u001b[0;32m    256\u001b[0m     node_dict[graph_id][dst_type][\u001b[38;5;124m\"\u001b[39m\u001b[38;5;124mdtype\u001b[39m\u001b[38;5;124m\"\u001b[39m]\n\u001b[0;32m    257\u001b[0m )\n\u001b[0;32m    258\u001b[0m src_ids \u001b[38;5;241m=\u001b[39m [src_mapping[index] \u001b[38;5;28;01mfor\u001b[39;00m index \u001b[38;5;129;01min\u001b[39;00m orig_src_ids]\n\u001b[1;32m--> 259\u001b[0m dst_ids \u001b[38;5;241m=\u001b[39m [\u001b[43mdst_mapping\u001b[49m\u001b[43m[\u001b[49m\u001b[43mindex\u001b[49m\u001b[43m]\u001b[49m \u001b[38;5;28;01mfor\u001b[39;00m index \u001b[38;5;129;01min\u001b[39;00m orig_dst_ids]\n\u001b[0;32m    260\u001b[0m \u001b[38;5;28;01mif\u001b[39;00m graph_id \u001b[38;5;129;01mnot\u001b[39;00m \u001b[38;5;129;01min\u001b[39;00m edge_dict:\n\u001b[0;32m    261\u001b[0m     edge_dict[graph_id] \u001b[38;5;241m=\u001b[39m {}\n",
      "\u001b[1;31mKeyError\u001b[0m: 5"
     ]
    }
   ],
   "source": [
    "import dgl\n",
    "dataset = dgl.data.CSVDataset(r\"C:\\Github repo\\IIT-BHU-Summer-Internship-Network-Security\\Flow As Graph\\Dataset\\mini_multi_dataset\")\n",
    "print(len(dataset))\n",
    "graph0, data0 = dataset[0]\n",
    "print(graph0)\n",
    "print(data0)\n",
    "graph1, data1 = dataset[1]\n",
    "print(graph1)\n",
    "print(data1)"
   ]
  },
  {
   "cell_type": "code",
   "execution_count": null,
   "id": "4c6b8c28",
   "metadata": {},
   "outputs": [],
   "source": []
  }
 ],
 "metadata": {
  "kernelspec": {
   "display_name": "Python 3 (ipykernel)",
   "language": "python",
   "name": "python3"
  },
  "language_info": {
   "codemirror_mode": {
    "name": "ipython",
    "version": 3
   },
   "file_extension": ".py",
   "mimetype": "text/x-python",
   "name": "python",
   "nbconvert_exporter": "python",
   "pygments_lexer": "ipython3",
   "version": "3.10.9"
  }
 },
 "nbformat": 4,
 "nbformat_minor": 5
}
